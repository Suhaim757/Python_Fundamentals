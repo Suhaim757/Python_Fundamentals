{
 "cells": [
  {
   "cell_type": "code",
   "execution_count": null,
   "metadata": {},
   "outputs": [],
   "source": [
    "Introduction to python classes:"
   ]
  },
  {
   "cell_type": "code",
   "execution_count": null,
   "metadata": {},
   "outputs": [],
   "source": [
    "things to know:\n",
    "    1.class\n",
    "    2.methods\n",
    "    3.attributes\n",
    "    4.self\n",
    "    5.object"
   ]
  },
  {
   "cell_type": "code",
   "execution_count": null,
   "metadata": {},
   "outputs": [],
   "source": [
    "class-----> It is a high-level design/blueprint of the program.\n",
    "\n",
    "methods: A function written inside a class is called as an method.\n",
    "    \n",
    "attributes: A variable written inside a class is called an attribute\n",
    "    \n",
    "self: A self is nothing but a temporary placeholder of an object.\n",
    "    \n",
    "Object: An Object is an entry/access point to the class methods.!"
   ]
  },
  {
   "cell_type": "code",
   "execution_count": null,
   "metadata": {},
   "outputs": [],
   "source": [
    "functions/method use small case\n",
    "\n",
    "Note points: Whenever writing the class name start with titlecase ---> ** industry wide followed practice."
   ]
  },
  {
   "cell_type": "code",
   "execution_count": null,
   "metadata": {},
   "outputs": [],
   "source": [
    "create a greeting class and give the below methods.\n",
    "1.createname--->it needs to accept the name from the user\n",
    "\n",
    "2.displayname---> it needs to display user name\n",
    "\n",
    "3.greetname----->it needs to greet the user"
   ]
  },
  {
   "cell_type": "code",
   "execution_count": 31,
   "metadata": {},
   "outputs": [],
   "source": [
    "#Note: always assign the methods to self---->thumb rule\n",
    "\n",
    "class Greeting: #class name\n",
    "    \"\"\"creating the greeting class\"\"\" #doc string\n",
    "    def createname(self,name): #method name\n",
    "        self.name=name #attributes\n",
    "    def displayname(self): #method\n",
    "        print(self.name)\n",
    "    def greetname(self):\n",
    "        print(f\"Hello welcome to pythone session {self.name}\")\n",
    "        \n",
    "    "
   ]
  },
  {
   "cell_type": "code",
   "execution_count": 32,
   "metadata": {},
   "outputs": [],
   "source": [
    "test=Greeting() #Object assignment to the class"
   ]
  },
  {
   "cell_type": "code",
   "execution_count": 33,
   "metadata": {},
   "outputs": [],
   "source": [
    "test.createname('suhaim')"
   ]
  },
  {
   "cell_type": "code",
   "execution_count": 34,
   "metadata": {},
   "outputs": [
    {
     "name": "stdout",
     "output_type": "stream",
     "text": [
      "suhaim\n"
     ]
    }
   ],
   "source": [
    "test.displayname()"
   ]
  },
  {
   "cell_type": "code",
   "execution_count": 35,
   "metadata": {},
   "outputs": [
    {
     "name": "stdout",
     "output_type": "stream",
     "text": [
      "Hello welcome to pythone session suhaim\n"
     ]
    }
   ],
   "source": [
    "test.greetname()"
   ]
  },
  {
   "cell_type": "code",
   "execution_count": null,
   "metadata": {},
   "outputs": [],
   "source": []
  },
  {
   "cell_type": "code",
   "execution_count": null,
   "metadata": {},
   "outputs": [],
   "source": []
  },
  {
   "cell_type": "code",
   "execution_count": null,
   "metadata": {},
   "outputs": [],
   "source": []
  },
  {
   "cell_type": "code",
   "execution_count": null,
   "metadata": {},
   "outputs": [],
   "source": []
  },
  {
   "cell_type": "code",
   "execution_count": null,
   "metadata": {},
   "outputs": [],
   "source": []
  },
  {
   "cell_type": "code",
   "execution_count": null,
   "metadata": {},
   "outputs": [],
   "source": []
  }
 ],
 "metadata": {
  "kernelspec": {
   "display_name": "Python 3",
   "language": "python",
   "name": "python3"
  },
  "language_info": {
   "codemirror_mode": {
    "name": "ipython",
    "version": 3
   },
   "file_extension": ".py",
   "mimetype": "text/x-python",
   "name": "python",
   "nbconvert_exporter": "python",
   "pygments_lexer": "ipython3",
   "version": "3.8.5"
  }
 },
 "nbformat": 4,
 "nbformat_minor": 4
}
